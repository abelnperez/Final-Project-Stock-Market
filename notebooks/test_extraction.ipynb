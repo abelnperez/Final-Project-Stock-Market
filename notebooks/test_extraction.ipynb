{
 "cells": [
  {
   "cell_type": "code",
   "execution_count": 2,
   "metadata": {},
   "outputs": [
    {
     "name": "stdout",
     "output_type": "stream",
     "text": [
      "Requirement already satisfied: requests in c:\\users\\abeln\\appdata\\local\\anaconda3\\envs\\env1\\lib\\site-packages (2.31.0)\n",
      "Requirement already satisfied: charset-normalizer<4,>=2 in c:\\users\\abeln\\appdata\\local\\anaconda3\\envs\\env1\\lib\\site-packages (from requests) (2.0.4)\n",
      "Requirement already satisfied: idna<4,>=2.5 in c:\\users\\abeln\\appdata\\local\\anaconda3\\envs\\env1\\lib\\site-packages (from requests) (3.4)\n",
      "Requirement already satisfied: urllib3<3,>=1.21.1 in c:\\users\\abeln\\appdata\\local\\anaconda3\\envs\\env1\\lib\\site-packages (from requests) (1.26.16)\n",
      "Requirement already satisfied: certifi>=2017.4.17 in c:\\users\\abeln\\appdata\\local\\anaconda3\\envs\\env1\\lib\\site-packages (from requests) (2023.7.22)\n",
      "Note: you may need to restart the kernel to use updated packages.\n"
     ]
    }
   ],
   "source": [
    "%pip install requests"
   ]
  },
  {
   "cell_type": "code",
   "execution_count": 3,
   "metadata": {},
   "outputs": [],
   "source": [
    "import pandas as pd\n",
    "import numpy as np"
   ]
  },
  {
   "cell_type": "code",
   "execution_count": null,
   "metadata": {},
   "outputs": [],
   "source": [
    "# Establecer la variable de entorno GURUFOCUS_TOKEN\n",
    "api_token = '998de1e9603935151d42837895022c57:b027526d849e2e5f68d4e926a99ba1fb'"
   ]
  },
  {
   "cell_type": "code",
   "execution_count": null,
   "metadata": {},
   "outputs": [],
   "source": [
    "x = \"AMZN\""
   ]
  },
  {
   "cell_type": "code",
   "execution_count": null,
   "metadata": {},
   "outputs": [],
   "source": [
    "import requests\n",
    "\n",
    "def api(x):\n",
    "    api_token = \"998de1e9603935151d42837895022c57:b027526d849e2e5f68d4e926a99ba1fb\"\n",
    "    base_url = \"https://api.gurufocus.com/public/user/\"\n",
    "    request_path = f\"stock/{x}/financials\"\n",
    "    full_url = f\"{base_url}{api_token}/{request_path}\"\n",
    "\n",
    "    response = requests.get(full_url)\n",
    "\n",
    "    if response.status_code == 200:\n",
    "        print(\"exito\")\n",
    "        res = response.json()\n",
    "        return res\n",
    "        \n",
    "    else:\n",
    "        print(f\"Error {response.status_code} {response.text}\")\n",
    "        return None"
   ]
  },
  {
   "cell_type": "code",
   "execution_count": 31,
   "metadata": {},
   "outputs": [],
   "source": [
    "lista_empresas = ['AAPL', 'MSFT', '2222.SR', 'GOOG','AMZN', 'NVDA', 'META', 'TSLA', 'BRK-B', 'LLY', 'V', 'TSM',\n",
    "                'UNH', 'DIBS', 'AVGO', 'NVO', 'JPM', 'WMT', 'XOM', 'TCEHY', 'MA', 'MC.PA','005930.KS', 'JNJ', 'PG', 'ORCL', 'HD', 'NESN.SW', 'ADBE',\n",
    "                'ASML', 'CVX', 'COST', 'TM', 'MRK', 'OR.PA','KO', 'ABBV', 'BAC', 'IHC.AE', 'PEP', 'CRM', 'RMS.PA', '1398.HK', 'ROG.SW', 'SHEL', 'NFLX', 'ACN', 'MCD', 'AMD',\n",
    "                'AMD', 'LIN', 'NVS', 'AZN', 'CSCO', 'RELIANCE.NS', 'TMO', 'BABA', 'INTC', 'PDD', 'SAP', 'ABT', '0941.HK', '601857.SS','601288.SS', 'TMUS', 'DIS', 'PFE', 'NKE', 'CMCSA',\n",
    "                'DHR', 'INTU', 'TTE', 'WFC', 'VZ', 'TCS.NS', 'HDB', '601988.SS', 'HSBC', 'PM', 'IBM', 'QCOM', 'AMGN', 'TXN', 'NOW', 'COP', 'BA', 'CDI.PA']"
   ]
  },
  {
   "cell_type": "code",
   "execution_count": 32,
   "metadata": {},
   "outputs": [
    {
     "data": {
      "text/plain": [
       "87"
      ]
     },
     "execution_count": 32,
     "metadata": {},
     "output_type": "execute_result"
    }
   ],
   "source": [
    "len(lista_empresas)"
   ]
  },
  {
   "cell_type": "code",
   "execution_count": 24,
   "metadata": {},
   "outputs": [],
   "source": [
    "def api2(x):\n",
    "    res = f\"Hola soy {x}\"\n",
    "    return res"
   ]
  },
  {
   "cell_type": "code",
   "execution_count": 25,
   "metadata": {},
   "outputs": [],
   "source": [
    "lst2 = []\n",
    "for e in lista_empresas:\n",
    "    res = api2(e)\n",
    "    lst2.append(res)"
   ]
  },
  {
   "cell_type": "code",
   "execution_count": null,
   "metadata": {},
   "outputs": [],
   "source": [
    "lst2"
   ]
  },
  {
   "cell_type": "code",
   "execution_count": 36,
   "metadata": {},
   "outputs": [],
   "source": [
    "lista_empresas = ['CAT', 'MSFT', 'UPS', 'GOOG','AMZN', 'NVDA', 'META', 'TSLA', 'UL', 'LLY', 'V', 'TSM',\n",
    "                'UNH', 'DIBS', 'AVGO', 'NVO', 'JPM', 'WMT', 'XOM', 'TCEHY', 'MA', 'SPGI','UNP', 'JNJ', 'PG', 'ORCL', 'HD', 'UBER', 'ADBE',\n",
    "                'ASML', 'CVX', 'COST', 'TM', 'MRK', 'GE','KO', 'ABBV', 'BAC', 'RTX', 'PEP', 'CRM', 'SBUX', 'MS', 'HON', 'SHEL', 'NFLX', 'ACN', 'MCD', 'AMD',\n",
    "                'AMD', 'LIN', 'NVS', 'AZN', 'CSCO', 'NEE', 'TMO', 'BABA', 'INTC', 'PDD', 'SAP', 'ABT', 'AMAT', 'IDEXY','BUD', 'TMUS', 'DIS', 'PFE', 'NKE', 'CMCSA',\n",
    "                'DHR', 'INTU', 'TTE', 'WFC', 'VZ', 'RY', 'HDB', 'RY', 'HSBC', 'PM', 'IBM', 'QCOM', 'AMGN', 'TXN', 'NOW', 'COP', 'BA', 'AXP']"
   ]
  },
  {
   "cell_type": "code",
   "execution_count": 38,
   "metadata": {},
   "outputs": [
    {
     "name": "stdout",
     "output_type": "stream",
     "text": [
      "exito\n",
      "exito\n",
      "exito\n",
      "exito\n",
      "exito\n",
      "exito\n",
      "exito\n",
      "exito\n",
      "exito\n",
      "exito\n",
      "exito\n",
      "exito\n",
      "exito\n",
      "exito\n",
      "exito\n",
      "exito\n",
      "exito\n",
      "exito\n",
      "exito\n",
      "exito\n",
      "exito\n",
      "exito\n",
      "exito\n",
      "exito\n",
      "exito\n",
      "exito\n",
      "exito\n",
      "exito\n",
      "exito\n",
      "exito\n",
      "exito\n",
      "exito\n",
      "exito\n",
      "exito\n",
      "exito\n",
      "exito\n",
      "exito\n",
      "exito\n",
      "exito\n",
      "exito\n",
      "exito\n",
      "exito\n",
      "exito\n",
      "exito\n",
      "exito\n",
      "exito\n",
      "exito\n",
      "exito\n",
      "exito\n",
      "exito\n",
      "exito\n",
      "exito\n",
      "exito\n",
      "exito\n",
      "exito\n",
      "exito\n",
      "exito\n",
      "exito\n",
      "exito\n",
      "exito\n",
      "exito\n",
      "exito\n",
      "exito\n",
      "exito\n",
      "exito\n",
      "exito\n",
      "exito\n",
      "exito\n",
      "exito\n",
      "exito\n",
      "exito\n",
      "exito\n",
      "exito\n",
      "exito\n",
      "exito\n",
      "exito\n",
      "exito\n",
      "exito\n",
      "exito\n",
      "exito\n",
      "exito\n",
      "exito\n",
      "exito\n",
      "exito\n",
      "exito\n",
      "exito\n",
      "Error 429 {\"error\":\"You have reached the limit of your API queries. Please upgrade your membership to increase your limit: https:\\/\\/www.gurufocus.com\\/membership\\/new\\/index.html#\\/ 100 2023-11\"}\n",
      "Archivos JSON se crean exitosamente.\n"
     ]
    },
    {
     "ename": "",
     "evalue": "",
     "output_type": "error",
     "traceback": [
      "\u001b[1;31mThe Kernel crashed while executing code in the the current cell or a previous cell. Please review the code in the cell(s) to identify a possible cause of the failure. Click <a href='https://aka.ms/vscodeJupyterKernelCrash'>here</a> for more info. View Jupyter <a href='command:jupyter.viewOutput'>log</a> for further details."
     ]
    }
   ],
   "source": [
    "import json\n",
    "\n",
    "import requests\n",
    "\n",
    "def api(x):\n",
    "    api_token = \"998de1e9603935151d42837895022c57:b027526d849e2e5f68d4e926a99ba1fb\"\n",
    "    base_url = \"https://api.gurufocus.com/public/user/\"\n",
    "    request_path = f\"stock/{x}/financials\"\n",
    "    full_url = f\"{base_url}{api_token}/{request_path}\"\n",
    "\n",
    "    response = requests.get(full_url)\n",
    "\n",
    "    if response.status_code == 200:\n",
    "        print(\"exito\")\n",
    "        res = response.json()\n",
    "        return res\n",
    "        \n",
    "    else:\n",
    "        print(f\"Error {response.status_code} {response.text}\")\n",
    "        return None\n",
    "\n",
    "lista_empresas = ['CAT', 'MSFT', 'UPS', 'GOOG','AMZN', 'NVDA', 'META', 'TSLA', 'UL', 'LLY', 'V', 'TSM',\n",
    "                'UNH', 'DIBS', 'AVGO', 'NVO', 'JPM', 'WMT', 'XOM', 'TCEHY', 'MA', 'SPGI','UNP', 'JNJ', 'PG', 'ORCL', 'HD', 'UBER', 'ADBE',\n",
    "                'ASML', 'CVX', 'COST', 'TM', 'MRK', 'GE','KO', 'ABBV', 'BAC', 'RTX', 'PEP', 'CRM', 'SBUX', 'MS', 'HON', 'SHEL', 'NFLX', 'ACN', 'MCD', 'AMD',\n",
    "                'AMD', 'LIN', 'NVS', 'AZN', 'CSCO', 'NEE', 'TMO', 'BABA', 'INTC', 'PDD', 'SAP', 'ABT', 'AMAT', 'IDEXY','BUD', 'TMUS', 'DIS', 'PFE', 'NKE', 'CMCSA',\n",
    "                'DHR', 'INTU', 'TTE', 'WFC', 'VZ', 'RY', 'HDB', 'RY', 'HSBC', 'PM', 'IBM', 'QCOM', 'AMGN', 'TXN', 'NOW', 'COP', 'BA', 'AXP']\n",
    "\n",
    "lst2 = []\n",
    "\n",
    "for e in lista_empresas:\n",
    "    res = api(e)\n",
    "    lst2.append(res)\n",
    "\n",
    "# Crear y guardar archivos JSON\n",
    "for i in range(len(lista_empresas)):\n",
    "    empresa = lista_empresas[i]\n",
    "    resultado = lst2[i]\n",
    "\n",
    "    # Crear un diccionario para almacenar el resultado\n",
    "    data = {\"resultado\": resultado}\n",
    "\n",
    "    # Crear el nombre del archivo usando el nombre de la empresa\n",
    "    nombre_archivo = f\"{empresa}.json\"\n",
    "\n",
    "    # Guardar el resultado en el archivo JSON\n",
    "    with open(nombre_archivo, 'w') as archivo:\n",
    "        json.dump(data, archivo)\n",
    "\n",
    "print(\"Archivos JSON se crean exitosamente.\")\n"
   ]
  },
  {
   "cell_type": "code",
   "execution_count": null,
   "metadata": {},
   "outputs": [],
   "source": [
    "amzn = api(\"AMZN\")"
   ]
  },
  {
   "cell_type": "code",
   "execution_count": null,
   "metadata": {},
   "outputs": [],
   "source": []
  }
 ],
 "metadata": {
  "kernelspec": {
   "display_name": "env1",
   "language": "python",
   "name": "python3"
  },
  "language_info": {
   "codemirror_mode": {
    "name": "ipython",
    "version": 3
   },
   "file_extension": ".py",
   "mimetype": "text/x-python",
   "name": "python",
   "nbconvert_exporter": "python",
   "pygments_lexer": "ipython3",
   "version": "3.11.5"
  }
 },
 "nbformat": 4,
 "nbformat_minor": 2
}
